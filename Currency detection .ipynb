{
 "cells": [
  {
   "cell_type": "code",
   "execution_count": null,
   "id": "0ce371f4",
   "metadata": {},
   "outputs": [],
   "source": [
    "!git clone https://github.com/ultralytics/yolov5\n",
    "!cd yolov5 & pip install -r requirements.txt"
   ]
  },
  {
   "cell_type": "code",
   "execution_count": 1,
   "id": "836ff7b8",
   "metadata": {},
   "outputs": [],
   "source": [
    "import torch\n",
    "from matplotlib import pyplot as plt\n",
    "import numpy as np\n",
    "import cv2\n",
    "import pandas"
   ]
  },
  {
   "cell_type": "code",
   "execution_count": null,
   "id": "068b2738",
   "metadata": {},
   "outputs": [],
   "source": [
    "model = torch.hub.load('ultralytics/yolov5', 'yolov5l')"
   ]
  },
  {
   "cell_type": "code",
   "execution_count": null,
   "id": "aab9fabe",
   "metadata": {},
   "outputs": [],
   "source": [
    "model"
   ]
  },
  {
   "cell_type": "code",
   "execution_count": null,
   "id": "7746a0ee",
   "metadata": {},
   "outputs": [],
   "source": [
    "source = \"......\""
   ]
  },
  {
   "cell_type": "code",
   "execution_count": null,
   "id": "d7c93670",
   "metadata": {},
   "outputs": [],
   "source": [
    "results = model(source)\n",
    "results.print()\n",
    "%matplotlib inline \n",
    "plt.imshow(np.squeeze(results.render()))\n",
    "plt.show()"
   ]
  },
  {
   "cell_type": "code",
   "execution_count": null,
   "id": "bc63bc7f",
   "metadata": {},
   "outputs": [],
   "source": [
    "cap = cv2.VideoCapture(0)\n",
    "while cap.isOpened():\n",
    "    ret, frame = cap.read()\n",
    "    \n",
    "    # Make detections \n",
    "    results = model(frame)\n",
    "    \n",
    "    cv2.imshow('YOLO', np.squeeze(results.render()))\n",
    "    \n",
    "    if cv2.waitKey(10) & 0xFF == ord('q'):\n",
    "        break\n",
    "cap.release()\n",
    "cv2.destroyAllWindows()"
   ]
  },
  {
   "cell_type": "code",
   "execution_count": null,
   "id": "71a8e02d",
   "metadata": {
    "scrolled": false
   },
   "outputs": [],
   "source": [
    "!cd yolov5 && python train.py --img 640 --batch 32 --epochs 100 --data data.yaml --weights yolov5l.pt --workers 4\n"
   ]
  },
  {
   "cell_type": "code",
   "execution_count": null,
   "id": "41c7fc75",
   "metadata": {
    "scrolled": true
   },
   "outputs": [],
   "source": [
    "model = torch.hub.load('ultralytics/yolov5', 'custom', path='yolov5/runs/train/exp/best.pt', force_reload=True)"
   ]
  },
  {
   "cell_type": "code",
   "execution_count": 6,
   "id": "f8494717",
   "metadata": {},
   "outputs": [
    {
     "name": "stderr",
     "output_type": "stream",
     "text": [
      "\u001b[34m\u001b[1mdetect: \u001b[0mweights=[\"'yolov5/runs/train/exp/weights/best.pt'\"], source='yolov5/ggg', data=data\\coco128.yaml, imgsz=[640, 640], conf_thres=0.1, iou_thres=0.45, max_det=1000, device=, view_img=False, save_txt=False, save_conf=False, save_crop=False, nosave=False, classes=None, agnostic_nms=False, augment=False, visualize=False, update=False, project=runs\\detect, name=exp, exist_ok=False, line_thickness=3, hide_labels=False, hide_conf=False, half=False, dnn=False, vid_stride=1\n",
      "fatal: cannot change to 'C:\\Users\\Anuj': No such file or directory\n",
      "YOLOv5  2023-3-21 Python-3.10.10 torch-2.0.0+cpu CPU\n",
      "\n",
      "Traceback (most recent call last):\n",
      "  File \"C:\\Users\\Anuj Kesharwani\\yolov5\\detect.py\", line 261, in <module>\n",
      "    main(opt)\n",
      "  File \"C:\\Users\\Anuj Kesharwani\\yolov5\\detect.py\", line 256, in main\n",
      "    run(**vars(opt))\n",
      "  File \"C:\\Users\\Anuj Kesharwani\\AppData\\Local\\Programs\\Python\\Python310\\lib\\site-packages\\torch\\utils\\_contextlib.py\", line 115, in decorate_context\n",
      "    return func(*args, **kwargs)\n",
      "  File \"C:\\Users\\Anuj Kesharwani\\yolov5\\detect.py\", line 98, in run\n",
      "    model = DetectMultiBackend(weights, device=device, dnn=dnn, data=data, fp16=half)\n",
      "  File \"C:\\Users\\Anuj Kesharwani\\yolov5\\models\\common.py\", line 335, in __init__\n",
      "    pt, jit, onnx, xml, engine, coreml, saved_model, pb, tflite, edgetpu, tfjs, paddle, triton = self._model_type(w)\n",
      "  File \"C:\\Users\\Anuj Kesharwani\\yolov5\\models\\common.py\", line 606, in _model_type\n",
      "    check_suffix(p, sf)  # checks\n",
      "  File \"C:\\Users\\Anuj Kesharwani\\yolov5\\utils\\general.py\", line 460, in check_suffix\n",
      "    assert s in suffix, f'{msg}{f} acceptable suffix is {suffix}'\n",
      "AssertionError: 'yolov5/runs/train/exp/weights/best.pt' acceptable suffix is ['.pt', '.torchscript', '.onnx', '_openvino_model', '.engine', '.mlmodel', '_saved_model', '.pb', '.tflite', '_edgetpu.tflite', '_web_model', '_paddle_model']\n"
     ]
    }
   ],
   "source": [
    "!cd yolov5 && python detect.py --weights 'yolov5/runs/train/exp/weights/best.pt' --img 640 --conf 0.1 --source 'yolov5/ggg'"
   ]
  },
  {
   "cell_type": "code",
   "execution_count": null,
   "id": "b7e605b8",
   "metadata": {},
   "outputs": [],
   "source": [
    "cap = cv2.VideoCapture(0)\n",
    "while cap.isOpened():\n",
    "    ret, frame = cap.read()\n",
    "    \n",
    "    # Make detections \n",
    "    results = model(frame)\n",
    "    \n",
    "    cv2.imshow('YOLO', np.squeeze(results.render()))\n",
    "    \n",
    "    if cv2.waitKey(10) & 0xFF == ord('q'):\n",
    "        break\n",
    "cap.release()\n",
    "cv2.destroyAllWindows()"
   ]
  },
  {
   "cell_type": "code",
   "execution_count": null,
   "id": "b13528d3",
   "metadata": {},
   "outputs": [],
   "source": []
  }
 ],
 "metadata": {
  "kernelspec": {
   "display_name": "Python 3 (ipykernel)",
   "language": "python",
   "name": "python3"
  },
  "language_info": {
   "codemirror_mode": {
    "name": "ipython",
    "version": 3
   },
   "file_extension": ".py",
   "mimetype": "text/x-python",
   "name": "python",
   "nbconvert_exporter": "python",
   "pygments_lexer": "ipython3",
   "version": "3.10.10"
  }
 },
 "nbformat": 4,
 "nbformat_minor": 5
}
